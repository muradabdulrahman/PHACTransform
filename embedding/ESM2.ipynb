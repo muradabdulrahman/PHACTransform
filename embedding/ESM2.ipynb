{
 "cells": [
  {
   "cell_type": "markdown",
   "source": [
    "## Create Mutation and Save it File"
   ],
   "metadata": {
    "collapsed": false
   },
   "id": "8e2d64bd4a8e206d"
  },
  {
   "cell_type": "code",
   "execution_count": 80,
   "id": "initial_id",
   "metadata": {
    "collapsed": true,
    "ExecuteTime": {
     "end_time": "2024-04-27T16:31:32.390306500Z",
     "start_time": "2024-04-27T16:31:32.381392300Z"
    }
   },
   "outputs": [],
   "source": [
    "import pandas as pd\n",
    "from Bio import SeqIO\n",
    "\n",
    "MUTATION_FILE = 'Book2.xlsx'\n",
    "QUERY_PROTEIN_FASTA = \"mock_protein.fasta\"\n",
    "\n",
    "\n",
    "\n",
    "df = pd.read_excel(MUTATION_FILE)\n",
    "fasta_file = QUERY_PROTEIN_FASTA\n",
    "\n",
    "\n",
    "with open(fasta_file, \"r\") as handle:\n",
    "    record = SeqIO.read(handle, \"fasta\")\n",
    "\n",
    "\n",
    "sequence_name = record.id\n",
    "protein_sequence = str(record.seq)"
   ]
  },
  {
   "cell_type": "code",
   "execution_count": 75,
   "outputs": [
    {
     "data": {
      "text/plain": "   pos mutant  Phact_score   dms\n0    3    D3A     1.086573  0.54\n1    3    D3B     1.449640  0.55\n2    3    D3C     1.586072  0.56\n3    3    D3D     1.390984  0.57\n4    3    D3E     1.510918  0.58\n5    3    D3F     1.082612  0.59\n6    3    D3G     1.986607  0.01\n7    3    D3H     1.757548  0.61\n8    4    V4A     0.545000  0.60\n9    4    v4B     0.013243  0.01",
      "text/html": "<div>\n<style scoped>\n    .dataframe tbody tr th:only-of-type {\n        vertical-align: middle;\n    }\n\n    .dataframe tbody tr th {\n        vertical-align: top;\n    }\n\n    .dataframe thead th {\n        text-align: right;\n    }\n</style>\n<table border=\"1\" class=\"dataframe\">\n  <thead>\n    <tr style=\"text-align: right;\">\n      <th></th>\n      <th>pos</th>\n      <th>mutant</th>\n      <th>Phact_score</th>\n      <th>dms</th>\n    </tr>\n  </thead>\n  <tbody>\n    <tr>\n      <th>0</th>\n      <td>3</td>\n      <td>D3A</td>\n      <td>1.086573</td>\n      <td>0.54</td>\n    </tr>\n    <tr>\n      <th>1</th>\n      <td>3</td>\n      <td>D3B</td>\n      <td>1.449640</td>\n      <td>0.55</td>\n    </tr>\n    <tr>\n      <th>2</th>\n      <td>3</td>\n      <td>D3C</td>\n      <td>1.586072</td>\n      <td>0.56</td>\n    </tr>\n    <tr>\n      <th>3</th>\n      <td>3</td>\n      <td>D3D</td>\n      <td>1.390984</td>\n      <td>0.57</td>\n    </tr>\n    <tr>\n      <th>4</th>\n      <td>3</td>\n      <td>D3E</td>\n      <td>1.510918</td>\n      <td>0.58</td>\n    </tr>\n    <tr>\n      <th>5</th>\n      <td>3</td>\n      <td>D3F</td>\n      <td>1.082612</td>\n      <td>0.59</td>\n    </tr>\n    <tr>\n      <th>6</th>\n      <td>3</td>\n      <td>D3G</td>\n      <td>1.986607</td>\n      <td>0.01</td>\n    </tr>\n    <tr>\n      <th>7</th>\n      <td>3</td>\n      <td>D3H</td>\n      <td>1.757548</td>\n      <td>0.61</td>\n    </tr>\n    <tr>\n      <th>8</th>\n      <td>4</td>\n      <td>V4A</td>\n      <td>0.545000</td>\n      <td>0.60</td>\n    </tr>\n    <tr>\n      <th>9</th>\n      <td>4</td>\n      <td>v4B</td>\n      <td>0.013243</td>\n      <td>0.01</td>\n    </tr>\n  </tbody>\n</table>\n</div>"
     },
     "execution_count": 75,
     "metadata": {},
     "output_type": "execute_result"
    }
   ],
   "source": [
    "df"
   ],
   "metadata": {
    "collapsed": false,
    "ExecuteTime": {
     "end_time": "2024-04-27T16:29:49.247101100Z",
     "start_time": "2024-04-27T16:29:49.238273700Z"
    }
   },
   "id": "8a66ed2be73d3cd2"
  },
  {
   "cell_type": "code",
   "execution_count": 76,
   "outputs": [],
   "source": [
    "mutations = df['mutant'].tolist()"
   ],
   "metadata": {
    "collapsed": false,
    "ExecuteTime": {
     "end_time": "2024-04-27T16:29:50.171462200Z",
     "start_time": "2024-04-27T16:29:50.167035500Z"
    }
   },
   "id": "c68b9fcffc8a3c47"
  },
  {
   "cell_type": "code",
   "execution_count": 77,
   "outputs": [],
   "source": [
    "MUTATED_SEQUENCES = f'{sequence_name}_mutations.fasta'\n",
    "\n",
    "with open(MUTATED_SEQUENCES, mode='w') as f:\n",
    "    for index, mutation in enumerate(mutations):\n",
    "        org = mutation[0]\n",
    "        pos = int(mutation[1])\n",
    "        var = mutation[2]\n",
    "\n",
    "        if protein_sequence[pos-1] != org.upper():\n",
    "            raise KeyError\n",
    "\n",
    "        mutated_sequence = protein_sequence[:pos-1] + var.upper() + protein_sequence[pos:]\n",
    "        f.write(f'>{sequence_name}_{org.upper()}{pos}{var}\\n')\n",
    "        f.write(f'{mutated_sequence}\\n')"
   ],
   "metadata": {
    "collapsed": false,
    "ExecuteTime": {
     "end_time": "2024-04-27T16:29:51.445964900Z",
     "start_time": "2024-04-27T16:29:51.441297Z"
    }
   },
   "id": "82622a08f1aa2fb4"
  },
  {
   "cell_type": "code",
   "execution_count": 43,
   "outputs": [],
   "source": [],
   "metadata": {
    "collapsed": false,
    "ExecuteTime": {
     "end_time": "2024-04-27T15:41:16.915225700Z",
     "start_time": "2024-04-27T15:41:16.912202Z"
    }
   },
   "id": "c8c8b744ec641c9a"
  },
  {
   "cell_type": "markdown",
   "source": [
    "## Embeddings using esm2"
   ],
   "metadata": {
    "collapsed": false
   },
   "id": "498b72962f40948a"
  },
  {
   "cell_type": "code",
   "execution_count": 44,
   "outputs": [],
   "source": [
    "import subprocess\n",
    "\n",
    "WT_command = f\"python ./esm_extract.py esm2_t33_650M_UR50D {QUERY_PROTEIN_FASTA} {sequence_name}_embedding --repr_layers 0 32 33 --include mean per_tok\"\n",
    "\n",
    "Mutations_command = f\"python ./esm_extract.py esm2_t33_650M_UR50D {MUTATED_SEQUENCES} {sequence_name}_mutations_embedding --repr_layers 0 32 33 --include mean per_tok\"\n"
   ],
   "metadata": {
    "collapsed": false,
    "ExecuteTime": {
     "end_time": "2024-04-27T15:41:17.702576300Z",
     "start_time": "2024-04-27T15:41:17.700042900Z"
    }
   },
   "id": "74eb6b53f91ff876"
  },
  {
   "cell_type": "code",
   "execution_count": 45,
   "outputs": [
    {
     "data": {
      "text/plain": "CompletedProcess(args='python ./esm_extract.py esm2_t33_650M_UR50D mock_protein.fasta XXXX_2194_embedding --repr_layers 0 32 33 --include mean per_tok', returncode=0)"
     },
     "execution_count": 45,
     "metadata": {},
     "output_type": "execute_result"
    }
   ],
   "source": [
    "subprocess.run(WT_command, check=True)"
   ],
   "metadata": {
    "collapsed": false,
    "ExecuteTime": {
     "end_time": "2024-04-27T15:41:24.815616200Z",
     "start_time": "2024-04-27T15:41:18.723634800Z"
    }
   },
   "id": "7ab936eeb369d4af"
  },
  {
   "cell_type": "code",
   "execution_count": 46,
   "outputs": [
    {
     "data": {
      "text/plain": "CompletedProcess(args='python ./esm_extract.py esm2_t33_650M_UR50D XXXX_2194_mutations.fasta XXXX_2194_mutations_embedding --repr_layers 0 32 33 --include mean per_tok', returncode=0)"
     },
     "execution_count": 46,
     "metadata": {},
     "output_type": "execute_result"
    }
   ],
   "source": [
    "subprocess.run(Mutations_command, check=True)"
   ],
   "metadata": {
    "collapsed": false,
    "ExecuteTime": {
     "end_time": "2024-04-27T15:41:33.241156900Z",
     "start_time": "2024-04-27T15:41:26.537146Z"
    }
   },
   "id": "11dbec36b3045fdb"
  },
  {
   "cell_type": "code",
   "execution_count": null,
   "outputs": [],
   "source": [],
   "metadata": {
    "collapsed": false
   },
   "id": "eb6e75da043e2f50"
  },
  {
   "cell_type": "markdown",
   "source": [
    "## Get the Input Vectors"
   ],
   "metadata": {
    "collapsed": false
   },
   "id": "ab92e66e7251c573"
  },
  {
   "cell_type": "code",
   "execution_count": 81,
   "outputs": [
    {
     "name": "stdout",
     "output_type": "stream",
     "text": [
      "XXXX_2194_D3A.pt\n",
      "protein name: XXXX_2194_D3A\n",
      "mutation: D3A\n",
      "Phact Score: 1.08657274\n",
      "DMS Score: 0.54\n",
      "Seq representation:\n",
      "tensor([ 0.0006,  0.0852,  0.1029,  ...,  0.1462, -0.1299,  0.1290])\n",
      "XXXX_2194_D3B.pt\n",
      "protein name: XXXX_2194_D3B\n",
      "mutation: D3B\n",
      "Phact Score: 1.449640362\n",
      "DMS Score: 0.55\n",
      "Seq representation:\n",
      "tensor([ 0.0295,  0.0506,  0.1395,  ...,  0.1172, -0.1446,  0.0865])\n",
      "XXXX_2194_D3C.pt\n",
      "protein name: XXXX_2194_D3C\n",
      "mutation: D3C\n",
      "Phact Score: 1.586071832\n",
      "DMS Score: 0.56\n",
      "Seq representation:\n",
      "tensor([ 0.0423,  0.0634,  0.1707,  ...,  0.0771, -0.1390,  0.1051])\n",
      "XXXX_2194_D3D.pt\n",
      "protein name: XXXX_2194_D3D\n",
      "mutation: D3D\n",
      "Phact Score: 1.390984458\n",
      "DMS Score: 0.57\n",
      "Seq representation:\n",
      "tensor([-0.0011,  0.0762,  0.1114,  ...,  0.0999, -0.0724,  0.1361])\n",
      "XXXX_2194_D3E.pt\n",
      "protein name: XXXX_2194_D3E\n",
      "mutation: D3E\n",
      "Phact Score: 1.510918047\n",
      "DMS Score: 0.58\n",
      "Seq representation:\n",
      "tensor([ 0.0170,  0.0548,  0.1552,  ...,  0.1744, -0.1019,  0.1434])\n",
      "XXXX_2194_D3F.pt\n",
      "protein name: XXXX_2194_D3F\n",
      "mutation: D3F\n",
      "Phact Score: 1.082612035\n",
      "DMS Score: 0.59\n",
      "Seq representation:\n",
      "tensor([ 0.0458,  0.0946,  0.1657,  ...,  0.1526, -0.1380,  0.0632])\n",
      "XXXX_2194_D3G.pt\n",
      "protein name: XXXX_2194_D3G\n",
      "mutation: D3G\n",
      "Phact Score: 1.986607392\n",
      "DMS Score: 0.01\n",
      "Seq representation:\n",
      "tensor([ 0.0258,  0.0369,  0.1331,  ...,  0.1799, -0.0968,  0.1157])\n",
      "XXXX_2194_D3H.pt\n",
      "protein name: XXXX_2194_D3H\n",
      "mutation: D3H\n",
      "Phact Score: 1.757548039\n",
      "DMS Score: 0.61\n",
      "Seq representation:\n",
      "tensor([ 0.0474,  0.0804,  0.1111,  ...,  0.0407, -0.1122,  0.0663])\n",
      "XXXX_2194_V4A.pt\n",
      "protein name: XXXX_2194_V4A\n",
      "mutation: V4A\n",
      "Phact Score: 0.545\n",
      "DMS Score: 0.6\n",
      "Seq representation:\n",
      "tensor([-0.0156,  0.0827,  0.0936,  ...,  0.0937, -0.1029,  0.1472])\n",
      "XXXX_2194_V4B.pt\n",
      "protein name: XXXX_2194_V4B\n",
      "mutation: V4B\n",
      "Phact Score: 0.013243\n",
      "DMS Score: 0.01\n",
      "Seq representation:\n",
      "tensor([ 0.0043,  0.0566,  0.1299,  ...,  0.1115, -0.0904,  0.0930])\n"
     ]
    }
   ],
   "source": [
    "import os\n",
    "import torch\n",
    "\n",
    "mut_DIRECTORY = f\"{sequence_name}_mutations_embedding\"\n",
    "wt_embedding = f\"{sequence_name}_embedding/{sequence_name}.pt\"\n",
    "\n",
    "model_wt = torch.load(wt_embedding)\n",
    "sequence_representation_wt = model_wt['mean_representations'][33]\n",
    "\n",
    "sequence_representations_mt = {}\n",
    "for filename in os.listdir(mut_DIRECTORY):\n",
    "    embed_file = os.path.join(mut_DIRECTORY, filename)\n",
    "    if os.path.isfile(embed_file):\n",
    "        model = torch.load(embed_file)\n",
    "        \n",
    "        name = model['label']\n",
    "        mut = name.split('_')[-1]\n",
    "        phact_score = df[df['mutant'] == mut]['Phact_score'].values[0]\n",
    "        dms = df[df['mutant'] == mut]['dms'].values[0]\n",
    "        sequence_representation = model['mean_representations'][33]\n",
    "        print(filename)\n",
    "        print('protein name: ' + name)\n",
    "        print('mutation: ' + mut)\n",
    "        print(f'Phact Score: {phact_score}')\n",
    "        print(f'DMS Score: {dms}')\n",
    "        print(f'Seq representation:\\n{sequence_representation}')\n"
   ],
   "metadata": {
    "collapsed": false,
    "ExecuteTime": {
     "end_time": "2024-04-27T16:31:36.087093900Z",
     "start_time": "2024-04-27T16:31:36.071193700Z"
    }
   },
   "id": "1b2d566002a91736"
  },
  {
   "cell_type": "code",
   "execution_count": 81,
   "outputs": [],
   "source": [],
   "metadata": {
    "collapsed": false,
    "ExecuteTime": {
     "end_time": "2024-04-27T16:31:38.919046400Z",
     "start_time": "2024-04-27T16:31:38.916815Z"
    }
   },
   "id": "ef2f00ddd52bcfb0"
  },
  {
   "cell_type": "code",
   "execution_count": null,
   "outputs": [],
   "source": [],
   "metadata": {
    "collapsed": false
   },
   "id": "bdb0cf4671c14593"
  }
 ],
 "metadata": {
  "kernelspec": {
   "display_name": "Python 3",
   "language": "python",
   "name": "python3"
  },
  "language_info": {
   "codemirror_mode": {
    "name": "ipython",
    "version": 2
   },
   "file_extension": ".py",
   "mimetype": "text/x-python",
   "name": "python",
   "nbconvert_exporter": "python",
   "pygments_lexer": "ipython2",
   "version": "2.7.6"
  }
 },
 "nbformat": 4,
 "nbformat_minor": 5
}
